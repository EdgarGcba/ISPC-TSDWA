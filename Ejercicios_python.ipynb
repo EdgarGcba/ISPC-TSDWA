{
 "cells": [
  {
   "cell_type": "markdown",
   "metadata": {},
   "source": [
    "1) Crear una lista en Python denominada “Dueno” "
   ]
  },
  {
   "cell_type": "code",
   "execution_count": null,
   "metadata": {},
   "outputs": [],
   "source": [
    "dueno = [28957346,  'Juan',  'Perez', 4789689, 'Belgrano 101']"
   ]
  },
  {
   "cell_type": "markdown",
   "metadata": {},
   "source": [
    "2) Crear una lista en Python denominada “Dueno2”"
   ]
  },
  {
   "cell_type": "code",
   "execution_count": null,
   "metadata": {},
   "outputs": [],
   "source": [
    "dueno2 = [23546987,  'Maria',  'Perez', 4789689, 'Pueyrredon  811']\n",
    "\n",
    "for i in range(0,5):\n",
    "    if (i == 0 or i == 2):\n",
    "        continue\n",
    "    else:\n",
    "        print (dueno2[i])"
   ]
  },
  {
   "cell_type": "markdown",
   "metadata": {},
   "source": [
    "3)  Crear un lista en Python denominado “Perro”"
   ]
  },
  {
   "cell_type": "code",
   "execution_count": null,
   "metadata": {},
   "outputs": [],
   "source": [
    "perro = [13, 'Puppy',  '12/12/2012' , 'Macho', 123]\n",
    "perro[2] = '13/12/2012'\n",
    "print(perro)"
   ]
  },
  {
   "cell_type": "markdown",
   "metadata": {},
   "source": [
    "4)      Crear un lista en Python denominado “Perro2”, "
   ]
  },
  {
   "cell_type": "code",
   "execution_count": null,
   "metadata": {},
   "outputs": [],
   "source": [
    "perro2 = [14,  'Fido',  '12/12/2012 ', 'Macho', 23546987]\n",
    "\n",
    "for dato in reversed(perro2):\n",
    "    print(dato) \n",
    "    "
   ]
  },
  {
   "cell_type": "markdown",
   "metadata": {},
   "source": [
    "5) Crear una tupla en Python con el nombre de “Historial” "
   ]
  },
  {
   "cell_type": "code",
   "execution_count": null,
   "metadata": {},
   "outputs": [],
   "source": [
    "historial = (2350, 5960, 23000, 1000, 8900)\n",
    "print(type(historial))\n",
    "total_historial = sum(historial)\n",
    "print(f'El total es: {total_historial}')"
   ]
  },
  {
   "cell_type": "markdown",
   "metadata": {},
   "source": [
    "6) Crear una tupla en Python con el nombre de “Historial2”"
   ]
  },
  {
   "cell_type": "code",
   "execution_count": null,
   "metadata": {},
   "outputs": [],
   "source": [
    "def mayor_a_5000 (tupla):\n",
    "    contador = 0\n",
    "    for dato in tupla:\n",
    "        if (dato > 5000):\n",
    "            contador +=1\n",
    "    return contador\n",
    "\n",
    "historial2 = (23500, 5960, 2300, 10200, 8900)\n",
    "total_historial2 = sum(historial2)\n",
    "print(f'El total es: {total_historial2}')\n",
    "print(f'la cantidad de servicios mayores a 5000 es: {mayor_a_5000(historial2)}')         \n"
   ]
  },
  {
   "cell_type": "markdown",
   "metadata": {},
   "source": [
    "7)  Crear una tupla en Python con el nombre de “Historial3”"
   ]
  },
  {
   "cell_type": "code",
   "execution_count": null,
   "metadata": {},
   "outputs": [],
   "source": [
    "def control_gasto(promedio):\n",
    "    if promedio > 4500:\n",
    "        print('Se ha excedido ')\n",
    "    else:\n",
    "        print('su gasto se encuentra dentro de los limites')\n",
    "historial3 = ( 9530, 4120, 4580, 1500, 890,7516,426)\n",
    "promedio = round(sum(historial3)/len(historial3), 2)\n",
    "print(f'El gasto promedio es: {promedio}')\n",
    "control_gasto(promedio)\n",
    "\n"
   ]
  },
  {
   "cell_type": "markdown",
   "metadata": {},
   "source": [
    "8) Crear una tupla en Python con el nombre de “Historial4”"
   ]
  },
  {
   "cell_type": "code",
   "execution_count": null,
   "metadata": {},
   "outputs": [],
   "source": [
    "def minimo(tupla):\n",
    "    minimo = tupla[0]\n",
    "    for dato in tupla:\n",
    "        if dato < minimo:\n",
    "            minimo = dato\n",
    "    return minimo\n",
    "        \n",
    "historial4 = (7510, 7960, 76180, 800, 4100)\n",
    "gasto_menor = minimo(historial4)\n",
    "print(f'El gasto minimo es: {gasto_menor}')\n"
   ]
  },
  {
   "cell_type": "markdown",
   "metadata": {},
   "source": [
    "9) Crear una tupla en Python con el nombre de “Historial5”"
   ]
  },
  {
   "cell_type": "code",
   "execution_count": null,
   "metadata": {},
   "outputs": [],
   "source": [
    "def maximo(tupla):\n",
    "    maximo = tupla[0]\n",
    "    for dato in tupla:\n",
    "        if dato > maximo:\n",
    "            maximo = dato\n",
    "    return maximo\n",
    "\n",
    "historial5 = (8520, 9510, 7530, 3570, 1590)\n",
    "gasto_mayor = maximo(historial5)\n",
    "print(f'El gasto mayor es: {gasto_mayor}')"
   ]
  },
  {
   "cell_type": "markdown",
   "metadata": {},
   "source": [
    "10) Crear una lista denominada “Clientes” "
   ]
  },
  {
   "cell_type": "code",
   "execution_count": null,
   "metadata": {},
   "outputs": [],
   "source": [
    "clientes = ('Juan', 'Mario', 'Ariel', 'Josefina', 'Marianella')\n",
    "clientes = sorted(clientes)\n",
    "print(clientes)"
   ]
  }
 ],
 "metadata": {
  "kernelspec": {
   "display_name": "Python 3.10.5 64-bit",
   "language": "python",
   "name": "python3"
  },
  "language_info": {
   "codemirror_mode": {
    "name": "ipython",
    "version": 3
   },
   "file_extension": ".py",
   "mimetype": "text/x-python",
   "name": "python",
   "nbconvert_exporter": "python",
   "pygments_lexer": "ipython3",
   "version": "3.10.5"
  },
  "orig_nbformat": 4,
  "vscode": {
   "interpreter": {
    "hash": "1e607ecc95e1ec3da90ffc43be20c7d660c56c4c2ad3227c778a724042419ac5"
   }
  }
 },
 "nbformat": 4,
 "nbformat_minor": 2
}
